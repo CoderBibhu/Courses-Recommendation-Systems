{
 "cells": [
  {
   "cell_type": "code",
   "execution_count": 42,
   "id": "306f0f20",
   "metadata": {},
   "outputs": [],
   "source": [
    "import pandas as pd\n",
    "import neattext as nfx\n",
    "from sklearn.feature_extraction.text import CountVectorizer,TfidfVectorizer\n",
    "from sklearn.metrics.pairwise import cosine_similarity"
   ]
  },
  {
   "cell_type": "code",
   "execution_count": 43,
   "id": "5a1d3423",
   "metadata": {},
   "outputs": [],
   "source": [
    "#!pip install neattext"
   ]
  },
  {
   "cell_type": "code",
   "execution_count": 44,
   "id": "3e92e6ba",
   "metadata": {},
   "outputs": [],
   "source": [
    "data = pd.read_csv('udemy_courses.csv')"
   ]
  },
  {
   "cell_type": "code",
   "execution_count": 45,
   "id": "f340d0de",
   "metadata": {},
   "outputs": [
    {
     "data": {
      "text/html": [
       "<div>\n",
       "<style scoped>\n",
       "    .dataframe tbody tr th:only-of-type {\n",
       "        vertical-align: middle;\n",
       "    }\n",
       "\n",
       "    .dataframe tbody tr th {\n",
       "        vertical-align: top;\n",
       "    }\n",
       "\n",
       "    .dataframe thead th {\n",
       "        text-align: right;\n",
       "    }\n",
       "</style>\n",
       "<table border=\"1\" class=\"dataframe\">\n",
       "  <thead>\n",
       "    <tr style=\"text-align: right;\">\n",
       "      <th></th>\n",
       "      <th>course_id</th>\n",
       "      <th>course_title</th>\n",
       "      <th>url</th>\n",
       "      <th>is_paid</th>\n",
       "      <th>price</th>\n",
       "      <th>num_subscribers</th>\n",
       "      <th>num_reviews</th>\n",
       "      <th>num_lectures</th>\n",
       "      <th>level</th>\n",
       "      <th>content_duration</th>\n",
       "      <th>published_timestamp</th>\n",
       "      <th>subject</th>\n",
       "    </tr>\n",
       "  </thead>\n",
       "  <tbody>\n",
       "    <tr>\n",
       "      <th>0</th>\n",
       "      <td>1070968</td>\n",
       "      <td>Ultimate Investment Banking Course</td>\n",
       "      <td>https://www.udemy.com/ultimate-investment-bank...</td>\n",
       "      <td>True</td>\n",
       "      <td>200</td>\n",
       "      <td>2147</td>\n",
       "      <td>23</td>\n",
       "      <td>51</td>\n",
       "      <td>All Levels</td>\n",
       "      <td>1.5</td>\n",
       "      <td>2017-01-18T20:58:58Z</td>\n",
       "      <td>Business Finance</td>\n",
       "    </tr>\n",
       "    <tr>\n",
       "      <th>1</th>\n",
       "      <td>1113822</td>\n",
       "      <td>Complete GST Course &amp; Certification - Grow You...</td>\n",
       "      <td>https://www.udemy.com/goods-and-services-tax/</td>\n",
       "      <td>True</td>\n",
       "      <td>75</td>\n",
       "      <td>2792</td>\n",
       "      <td>923</td>\n",
       "      <td>274</td>\n",
       "      <td>All Levels</td>\n",
       "      <td>39.0</td>\n",
       "      <td>2017-03-09T16:34:20Z</td>\n",
       "      <td>Business Finance</td>\n",
       "    </tr>\n",
       "  </tbody>\n",
       "</table>\n",
       "</div>"
      ],
      "text/plain": [
       "   course_id                                       course_title  \\\n",
       "0    1070968                 Ultimate Investment Banking Course   \n",
       "1    1113822  Complete GST Course & Certification - Grow You...   \n",
       "\n",
       "                                                 url  is_paid  price  \\\n",
       "0  https://www.udemy.com/ultimate-investment-bank...     True    200   \n",
       "1      https://www.udemy.com/goods-and-services-tax/     True     75   \n",
       "\n",
       "   num_subscribers  num_reviews  num_lectures       level  content_duration  \\\n",
       "0             2147           23            51  All Levels               1.5   \n",
       "1             2792          923           274  All Levels              39.0   \n",
       "\n",
       "    published_timestamp           subject  \n",
       "0  2017-01-18T20:58:58Z  Business Finance  \n",
       "1  2017-03-09T16:34:20Z  Business Finance  "
      ]
     },
     "execution_count": 45,
     "metadata": {},
     "output_type": "execute_result"
    }
   ],
   "source": [
    "data.head(2)"
   ]
  },
  {
   "cell_type": "code",
   "execution_count": 46,
   "id": "8352006b",
   "metadata": {},
   "outputs": [
    {
     "data": {
      "text/plain": [
       "Index(['course_id', 'course_title', 'url', 'is_paid', 'price',\n",
       "       'num_subscribers', 'num_reviews', 'num_lectures', 'level',\n",
       "       'content_duration', 'published_timestamp', 'subject'],\n",
       "      dtype='object')"
      ]
     },
     "execution_count": 46,
     "metadata": {},
     "output_type": "execute_result"
    }
   ],
   "source": [
    "data.columns"
   ]
  },
  {
   "cell_type": "code",
   "execution_count": 47,
   "id": "fcde36e9",
   "metadata": {},
   "outputs": [
    {
     "data": {
      "text/plain": [
       "course_id              0\n",
       "course_title           0\n",
       "url                    0\n",
       "is_paid                0\n",
       "price                  0\n",
       "num_subscribers        0\n",
       "num_reviews            0\n",
       "num_lectures           0\n",
       "level                  0\n",
       "content_duration       0\n",
       "published_timestamp    0\n",
       "subject                0\n",
       "dtype: int64"
      ]
     },
     "execution_count": 47,
     "metadata": {},
     "output_type": "execute_result"
    }
   ],
   "source": [
    "data.isnull().sum()"
   ]
  },
  {
   "cell_type": "code",
   "execution_count": 48,
   "id": "6d205ffe",
   "metadata": {},
   "outputs": [
    {
     "data": {
      "text/plain": [
       "True"
      ]
     },
     "execution_count": 48,
     "metadata": {},
     "output_type": "execute_result"
    }
   ],
   "source": [
    "data.duplicated().any()"
   ]
  },
  {
   "cell_type": "code",
   "execution_count": 49,
   "id": "b0d501a7",
   "metadata": {},
   "outputs": [
    {
     "data": {
      "text/html": [
       "<div>\n",
       "<style scoped>\n",
       "    .dataframe tbody tr th:only-of-type {\n",
       "        vertical-align: middle;\n",
       "    }\n",
       "\n",
       "    .dataframe tbody tr th {\n",
       "        vertical-align: top;\n",
       "    }\n",
       "\n",
       "    .dataframe thead th {\n",
       "        text-align: right;\n",
       "    }\n",
       "</style>\n",
       "<table border=\"1\" class=\"dataframe\">\n",
       "  <thead>\n",
       "    <tr style=\"text-align: right;\">\n",
       "      <th></th>\n",
       "      <th>course_id</th>\n",
       "      <th>course_title</th>\n",
       "      <th>url</th>\n",
       "      <th>is_paid</th>\n",
       "      <th>price</th>\n",
       "      <th>num_subscribers</th>\n",
       "      <th>num_reviews</th>\n",
       "      <th>num_lectures</th>\n",
       "      <th>level</th>\n",
       "      <th>content_duration</th>\n",
       "      <th>published_timestamp</th>\n",
       "      <th>subject</th>\n",
       "    </tr>\n",
       "  </thead>\n",
       "  <tbody>\n",
       "    <tr>\n",
       "      <th>787</th>\n",
       "      <td>837322</td>\n",
       "      <td>Essentials of money value: Get a financial Life !</td>\n",
       "      <td>https://www.udemy.com/essentials-of-money-value/</td>\n",
       "      <td>True</td>\n",
       "      <td>20</td>\n",
       "      <td>0</td>\n",
       "      <td>0</td>\n",
       "      <td>20</td>\n",
       "      <td>All Levels</td>\n",
       "      <td>0.616667</td>\n",
       "      <td>2016-05-16T18:28:30Z</td>\n",
       "      <td>Business Finance</td>\n",
       "    </tr>\n",
       "    <tr>\n",
       "      <th>788</th>\n",
       "      <td>1157298</td>\n",
       "      <td>Introduction to Forex Trading Business For Beg...</td>\n",
       "      <td>https://www.udemy.com/introduction-to-forex-tr...</td>\n",
       "      <td>True</td>\n",
       "      <td>20</td>\n",
       "      <td>0</td>\n",
       "      <td>0</td>\n",
       "      <td>27</td>\n",
       "      <td>Beginner Level</td>\n",
       "      <td>1.500000</td>\n",
       "      <td>2017-04-23T16:19:01Z</td>\n",
       "      <td>Business Finance</td>\n",
       "    </tr>\n",
       "    <tr>\n",
       "      <th>894</th>\n",
       "      <td>1035638</td>\n",
       "      <td>Understanding Financial Statements</td>\n",
       "      <td>https://www.udemy.com/understanding-financial-...</td>\n",
       "      <td>True</td>\n",
       "      <td>25</td>\n",
       "      <td>0</td>\n",
       "      <td>0</td>\n",
       "      <td>10</td>\n",
       "      <td>All Levels</td>\n",
       "      <td>1.000000</td>\n",
       "      <td>2016-12-15T14:56:17Z</td>\n",
       "      <td>Business Finance</td>\n",
       "    </tr>\n",
       "    <tr>\n",
       "      <th>1100</th>\n",
       "      <td>1084454</td>\n",
       "      <td>CFA Level 2- Quantitative Methods</td>\n",
       "      <td>https://www.udemy.com/cfa-level-2-quantitative...</td>\n",
       "      <td>True</td>\n",
       "      <td>40</td>\n",
       "      <td>0</td>\n",
       "      <td>0</td>\n",
       "      <td>35</td>\n",
       "      <td>All Levels</td>\n",
       "      <td>5.500000</td>\n",
       "      <td>2017-07-02T14:29:35Z</td>\n",
       "      <td>Business Finance</td>\n",
       "    </tr>\n",
       "    <tr>\n",
       "      <th>1473</th>\n",
       "      <td>185526</td>\n",
       "      <td>MicroStation - Células</td>\n",
       "      <td>https://www.udemy.com/microstation-celulas/</td>\n",
       "      <td>True</td>\n",
       "      <td>20</td>\n",
       "      <td>0</td>\n",
       "      <td>0</td>\n",
       "      <td>9</td>\n",
       "      <td>Beginner Level</td>\n",
       "      <td>0.616667</td>\n",
       "      <td>2014-04-15T21:48:55Z</td>\n",
       "      <td>Graphic Design</td>\n",
       "    </tr>\n",
       "    <tr>\n",
       "      <th>2561</th>\n",
       "      <td>28295</td>\n",
       "      <td>Learn Web Designing &amp; HTML5/CSS3 Essentials in...</td>\n",
       "      <td>https://www.udemy.com/build-beautiful-html5-we...</td>\n",
       "      <td>True</td>\n",
       "      <td>75</td>\n",
       "      <td>43285</td>\n",
       "      <td>525</td>\n",
       "      <td>24</td>\n",
       "      <td>All Levels</td>\n",
       "      <td>4.000000</td>\n",
       "      <td>2013-01-03T00:55:31Z</td>\n",
       "      <td>Web Development</td>\n",
       "    </tr>\n",
       "  </tbody>\n",
       "</table>\n",
       "</div>"
      ],
      "text/plain": [
       "      course_id                                       course_title  \\\n",
       "787      837322  Essentials of money value: Get a financial Life !   \n",
       "788     1157298  Introduction to Forex Trading Business For Beg...   \n",
       "894     1035638                 Understanding Financial Statements   \n",
       "1100    1084454                  CFA Level 2- Quantitative Methods   \n",
       "1473     185526                             MicroStation - Células   \n",
       "2561      28295  Learn Web Designing & HTML5/CSS3 Essentials in...   \n",
       "\n",
       "                                                    url  is_paid  price  \\\n",
       "787    https://www.udemy.com/essentials-of-money-value/     True     20   \n",
       "788   https://www.udemy.com/introduction-to-forex-tr...     True     20   \n",
       "894   https://www.udemy.com/understanding-financial-...     True     25   \n",
       "1100  https://www.udemy.com/cfa-level-2-quantitative...     True     40   \n",
       "1473        https://www.udemy.com/microstation-celulas/     True     20   \n",
       "2561  https://www.udemy.com/build-beautiful-html5-we...     True     75   \n",
       "\n",
       "      num_subscribers  num_reviews  num_lectures           level  \\\n",
       "787                 0            0            20      All Levels   \n",
       "788                 0            0            27  Beginner Level   \n",
       "894                 0            0            10      All Levels   \n",
       "1100                0            0            35      All Levels   \n",
       "1473                0            0             9  Beginner Level   \n",
       "2561            43285          525            24      All Levels   \n",
       "\n",
       "      content_duration   published_timestamp           subject  \n",
       "787           0.616667  2016-05-16T18:28:30Z  Business Finance  \n",
       "788           1.500000  2017-04-23T16:19:01Z  Business Finance  \n",
       "894           1.000000  2016-12-15T14:56:17Z  Business Finance  \n",
       "1100          5.500000  2017-07-02T14:29:35Z  Business Finance  \n",
       "1473          0.616667  2014-04-15T21:48:55Z    Graphic Design  \n",
       "2561          4.000000  2013-01-03T00:55:31Z   Web Development  "
      ]
     },
     "execution_count": 49,
     "metadata": {},
     "output_type": "execute_result"
    }
   ],
   "source": [
    "data[data.duplicated()]"
   ]
  },
  {
   "cell_type": "code",
   "execution_count": 50,
   "id": "887e7172",
   "metadata": {},
   "outputs": [],
   "source": [
    "data = data.drop_duplicates()"
   ]
  },
  {
   "cell_type": "code",
   "execution_count": 51,
   "id": "ac2aa3ab",
   "metadata": {},
   "outputs": [
    {
     "data": {
      "text/plain": [
       "(3672, 12)"
      ]
     },
     "execution_count": 51,
     "metadata": {},
     "output_type": "execute_result"
    }
   ],
   "source": [
    "data.shape"
   ]
  },
  {
   "cell_type": "markdown",
   "id": "fdf72162",
   "metadata": {},
   "source": [
    "# Popularity-Based Recommendation System"
   ]
  },
  {
   "cell_type": "code",
   "execution_count": 52,
   "id": "86a6301d",
   "metadata": {},
   "outputs": [
    {
     "data": {
      "text/plain": [
       "Index(['course_id', 'course_title', 'url', 'is_paid', 'price',\n",
       "       'num_subscribers', 'num_reviews', 'num_lectures', 'level',\n",
       "       'content_duration', 'published_timestamp', 'subject'],\n",
       "      dtype='object')"
      ]
     },
     "execution_count": 52,
     "metadata": {},
     "output_type": "execute_result"
    }
   ],
   "source": [
    "data.columns"
   ]
  },
  {
   "cell_type": "code",
   "execution_count": 53,
   "id": "4dd97259",
   "metadata": {},
   "outputs": [],
   "source": [
    "def popularity_based_recommendation(data, top_n=5):\n",
    "    # Calculate popularity score for each course\n",
    "    data['popularity_score'] = 0.6 * data['num_subscribers'] + 0.4 * data['num_reviews']\n",
    "    \n",
    "    # Sort courses by popularity score in descending order\n",
    "    df_sorted = data.sort_values(by='popularity_score', ascending=False)\n",
    "    \n",
    "    # Return the recommended courses (course titles and popularity scores)\n",
    "    recommended_courses = df_sorted[['course_title', 'popularity_score']].head(top_n)\n",
    "    \n",
    "    return recommended_courses"
   ]
  },
  {
   "cell_type": "code",
   "execution_count": 54,
   "id": "4b445aff",
   "metadata": {},
   "outputs": [
    {
     "data": {
      "text/html": [
       "<div>\n",
       "<style scoped>\n",
       "    .dataframe tbody tr th:only-of-type {\n",
       "        vertical-align: middle;\n",
       "    }\n",
       "\n",
       "    .dataframe tbody tr th {\n",
       "        vertical-align: top;\n",
       "    }\n",
       "\n",
       "    .dataframe thead th {\n",
       "        text-align: right;\n",
       "    }\n",
       "</style>\n",
       "<table border=\"1\" class=\"dataframe\">\n",
       "  <thead>\n",
       "    <tr style=\"text-align: right;\">\n",
       "      <th></th>\n",
       "      <th>course_title</th>\n",
       "      <th>popularity_score</th>\n",
       "    </tr>\n",
       "  </thead>\n",
       "  <tbody>\n",
       "    <tr>\n",
       "      <th>2827</th>\n",
       "      <td>Learn HTML5 Programming From Scratch</td>\n",
       "      <td>164805.4</td>\n",
       "    </tr>\n",
       "    <tr>\n",
       "      <th>3032</th>\n",
       "      <td>Coding for Entrepreneurs Basic</td>\n",
       "      <td>96729.0</td>\n",
       "    </tr>\n",
       "    <tr>\n",
       "      <th>3230</th>\n",
       "      <td>The Web Developer Bootcamp</td>\n",
       "      <td>83928.4</td>\n",
       "    </tr>\n",
       "    <tr>\n",
       "      <th>3232</th>\n",
       "      <td>The Complete Web Developer Course 2.0</td>\n",
       "      <td>77672.0</td>\n",
       "    </tr>\n",
       "    <tr>\n",
       "      <th>2783</th>\n",
       "      <td>Build Your First Website in 1 Week with HTML5 ...</td>\n",
       "      <td>74544.2</td>\n",
       "    </tr>\n",
       "  </tbody>\n",
       "</table>\n",
       "</div>"
      ],
      "text/plain": [
       "                                           course_title  popularity_score\n",
       "2827               Learn HTML5 Programming From Scratch          164805.4\n",
       "3032                     Coding for Entrepreneurs Basic           96729.0\n",
       "3230                         The Web Developer Bootcamp           83928.4\n",
       "3232              The Complete Web Developer Course 2.0           77672.0\n",
       "2783  Build Your First Website in 1 Week with HTML5 ...           74544.2"
      ]
     },
     "execution_count": 54,
     "metadata": {},
     "output_type": "execute_result"
    }
   ],
   "source": [
    "popularity_based_recommendation(data)"
   ]
  },
  {
   "cell_type": "markdown",
   "id": "f0f8b89a",
   "metadata": {},
   "source": [
    "# Content Based Recommendation System"
   ]
  },
  {
   "cell_type": "code",
   "execution_count": 55,
   "id": "91550e6d",
   "metadata": {},
   "outputs": [],
   "source": [
    "data['course_title'] = data['course_title'].apply(nfx.remove_stopwords)\n",
    "data['course_title'] = data['course_title'].apply(nfx.remove_special_characters)"
   ]
  },
  {
   "cell_type": "code",
   "execution_count": 56,
   "id": "7e290fdd",
   "metadata": {},
   "outputs": [
    {
     "data": {
      "text/plain": [
       "0                      Ultimate Investment Banking Course\n",
       "1       Complete GST Course  Certification  Grow Practice\n",
       "2        Financial Modeling Business Analysts Consultants\n",
       "3             Beginner Pro  Financial Analysis Excel 2017\n",
       "4                        Maximize Profits Trading Options\n",
       "                              ...                        \n",
       "3673      Learn jQuery Scratch  Master JavaScript library\n",
       "3674                      Design WordPress Website Coding\n",
       "3675                                  Learn Build Polymer\n",
       "3676        CSS Animations Create Amazing Effects Website\n",
       "3677              MODX CMS Build Websites Beginners Guide\n",
       "Name: course_title, Length: 3672, dtype: object"
      ]
     },
     "execution_count": 56,
     "metadata": {},
     "output_type": "execute_result"
    }
   ],
   "source": [
    "data['course_title']"
   ]
  },
  {
   "cell_type": "code",
   "execution_count": 57,
   "id": "fd7b50d4",
   "metadata": {},
   "outputs": [
    {
     "data": {
      "text/html": [
       "<div>\n",
       "<style scoped>\n",
       "    .dataframe tbody tr th:only-of-type {\n",
       "        vertical-align: middle;\n",
       "    }\n",
       "\n",
       "    .dataframe tbody tr th {\n",
       "        vertical-align: top;\n",
       "    }\n",
       "\n",
       "    .dataframe thead th {\n",
       "        text-align: right;\n",
       "    }\n",
       "</style>\n",
       "<table border=\"1\" class=\"dataframe\">\n",
       "  <thead>\n",
       "    <tr style=\"text-align: right;\">\n",
       "      <th></th>\n",
       "      <th>course_id</th>\n",
       "      <th>course_title</th>\n",
       "      <th>url</th>\n",
       "      <th>is_paid</th>\n",
       "      <th>price</th>\n",
       "      <th>num_subscribers</th>\n",
       "      <th>num_reviews</th>\n",
       "      <th>num_lectures</th>\n",
       "      <th>level</th>\n",
       "      <th>content_duration</th>\n",
       "      <th>published_timestamp</th>\n",
       "      <th>subject</th>\n",
       "      <th>popularity_score</th>\n",
       "    </tr>\n",
       "  </thead>\n",
       "  <tbody>\n",
       "    <tr>\n",
       "      <th>3415</th>\n",
       "      <td>417914</td>\n",
       "      <td>GRUNT js Automate web development tasks save time</td>\n",
       "      <td>https://www.udemy.com/gruntjs-automate-web-dev...</td>\n",
       "      <td>True</td>\n",
       "      <td>55</td>\n",
       "      <td>1534</td>\n",
       "      <td>33</td>\n",
       "      <td>18</td>\n",
       "      <td>All Levels</td>\n",
       "      <td>1.5</td>\n",
       "      <td>2015-03-02T23:34:14Z</td>\n",
       "      <td>Web Development</td>\n",
       "      <td>933.6</td>\n",
       "    </tr>\n",
       "    <tr>\n",
       "      <th>2650</th>\n",
       "      <td>763774</td>\n",
       "      <td>JavaScript Game Development Create Breakout Game</td>\n",
       "      <td>https://www.udemy.com/javascript-game-developm...</td>\n",
       "      <td>False</td>\n",
       "      <td>0</td>\n",
       "      <td>10179</td>\n",
       "      <td>314</td>\n",
       "      <td>21</td>\n",
       "      <td>All Levels</td>\n",
       "      <td>1.5</td>\n",
       "      <td>2016-09-26T23:44:51Z</td>\n",
       "      <td>Web Development</td>\n",
       "      <td>6233.0</td>\n",
       "    </tr>\n",
       "    <tr>\n",
       "      <th>441</th>\n",
       "      <td>598722</td>\n",
       "      <td>Build Grow Protect Assets StepbyStep Guide</td>\n",
       "      <td>https://www.udemy.com/ron-delegges-crash-cours...</td>\n",
       "      <td>True</td>\n",
       "      <td>195</td>\n",
       "      <td>226</td>\n",
       "      <td>26</td>\n",
       "      <td>26</td>\n",
       "      <td>All Levels</td>\n",
       "      <td>3.5</td>\n",
       "      <td>2015-09-23T03:00:27Z</td>\n",
       "      <td>Business Finance</td>\n",
       "      <td>146.0</td>\n",
       "    </tr>\n",
       "    <tr>\n",
       "      <th>3515</th>\n",
       "      <td>56513</td>\n",
       "      <td>Social Network Web Development</td>\n",
       "      <td>https://www.udemy.com/how-to-create-a-social-n...</td>\n",
       "      <td>True</td>\n",
       "      <td>200</td>\n",
       "      <td>2698</td>\n",
       "      <td>29</td>\n",
       "      <td>57</td>\n",
       "      <td>All Levels</td>\n",
       "      <td>8.0</td>\n",
       "      <td>2013-09-03T06:29:24Z</td>\n",
       "      <td>Web Development</td>\n",
       "      <td>1630.4</td>\n",
       "    </tr>\n",
       "    <tr>\n",
       "      <th>1632</th>\n",
       "      <td>908664</td>\n",
       "      <td>Word Swag  Create Stunning Images Word Swag App</td>\n",
       "      <td>https://www.udemy.com/word-swag/</td>\n",
       "      <td>True</td>\n",
       "      <td>100</td>\n",
       "      <td>2416</td>\n",
       "      <td>19</td>\n",
       "      <td>14</td>\n",
       "      <td>All Levels</td>\n",
       "      <td>1.0</td>\n",
       "      <td>2016-08-09T17:56:53Z</td>\n",
       "      <td>Graphic Design</td>\n",
       "      <td>1457.2</td>\n",
       "    </tr>\n",
       "  </tbody>\n",
       "</table>\n",
       "</div>"
      ],
      "text/plain": [
       "      course_id                                       course_title  \\\n",
       "3415     417914  GRUNT js Automate web development tasks save time   \n",
       "2650     763774   JavaScript Game Development Create Breakout Game   \n",
       "441      598722         Build Grow Protect Assets StepbyStep Guide   \n",
       "3515      56513                     Social Network Web Development   \n",
       "1632     908664    Word Swag  Create Stunning Images Word Swag App   \n",
       "\n",
       "                                                    url  is_paid  price  \\\n",
       "3415  https://www.udemy.com/gruntjs-automate-web-dev...     True     55   \n",
       "2650  https://www.udemy.com/javascript-game-developm...    False      0   \n",
       "441   https://www.udemy.com/ron-delegges-crash-cours...     True    195   \n",
       "3515  https://www.udemy.com/how-to-create-a-social-n...     True    200   \n",
       "1632                   https://www.udemy.com/word-swag/     True    100   \n",
       "\n",
       "      num_subscribers  num_reviews  num_lectures       level  \\\n",
       "3415             1534           33            18  All Levels   \n",
       "2650            10179          314            21  All Levels   \n",
       "441               226           26            26  All Levels   \n",
       "3515             2698           29            57  All Levels   \n",
       "1632             2416           19            14  All Levels   \n",
       "\n",
       "      content_duration   published_timestamp           subject  \\\n",
       "3415               1.5  2015-03-02T23:34:14Z   Web Development   \n",
       "2650               1.5  2016-09-26T23:44:51Z   Web Development   \n",
       "441                3.5  2015-09-23T03:00:27Z  Business Finance   \n",
       "3515               8.0  2013-09-03T06:29:24Z   Web Development   \n",
       "1632               1.0  2016-08-09T17:56:53Z    Graphic Design   \n",
       "\n",
       "      popularity_score  \n",
       "3415             933.6  \n",
       "2650            6233.0  \n",
       "441              146.0  \n",
       "3515            1630.4  \n",
       "1632            1457.2  "
      ]
     },
     "execution_count": 57,
     "metadata": {},
     "output_type": "execute_result"
    }
   ],
   "source": [
    "data.sample(5)"
   ]
  },
  {
   "cell_type": "code",
   "execution_count": 58,
   "id": "02a3c08e",
   "metadata": {},
   "outputs": [],
   "source": [
    "data['title_subject'] = data['course_title'] + ''+data['subject']"
   ]
  },
  {
   "cell_type": "code",
   "execution_count": 59,
   "id": "955279f3",
   "metadata": {},
   "outputs": [],
   "source": [
    "cv = CountVectorizer(max_features=3000)\n",
    "vectors = cv.fit_transform(data['title_subject']).toarray()"
   ]
  },
  {
   "cell_type": "code",
   "execution_count": 60,
   "id": "5d8d97f0",
   "metadata": {},
   "outputs": [
    {
     "data": {
      "text/plain": [
       "array([0, 0, 0, ..., 0, 0, 0], dtype=int64)"
      ]
     },
     "execution_count": 60,
     "metadata": {},
     "output_type": "execute_result"
    }
   ],
   "source": [
    "vectors[0]"
   ]
  },
  {
   "cell_type": "code",
   "execution_count": 61,
   "id": "6ea10192",
   "metadata": {},
   "outputs": [],
   "source": [
    "from sklearn.metrics.pairwise import cosine_similarity"
   ]
  },
  {
   "cell_type": "code",
   "execution_count": 62,
   "id": "eedc00d0",
   "metadata": {},
   "outputs": [],
   "source": [
    "similarity = cosine_similarity(vectors)"
   ]
  },
  {
   "cell_type": "code",
   "execution_count": 63,
   "id": "fe73ddbc",
   "metadata": {},
   "outputs": [
    {
     "data": {
      "text/plain": [
       "[(417, 0.6),\n",
       " (39, 0.5477225575051662),\n",
       " (657, 0.5477225575051662),\n",
       " (1066, 0.5477225575051662),\n",
       " (227, 0.50709255283711)]"
      ]
     },
     "execution_count": 63,
     "metadata": {},
     "output_type": "execute_result"
    }
   ],
   "source": [
    "sorted(list(enumerate(similarity[0])),reverse=True,key=lambda x:x[1])[1:6]"
   ]
  },
  {
   "cell_type": "code",
   "execution_count": 68,
   "id": "7d9c472c",
   "metadata": {},
   "outputs": [
    {
     "data": {
      "text/plain": [
       "'Complete Investment Banking Course 2017'"
      ]
     },
     "execution_count": 68,
     "metadata": {},
     "output_type": "execute_result"
    }
   ],
   "source": [
    "data.iloc[39]['course_title']"
   ]
  },
  {
   "cell_type": "code",
   "execution_count": 69,
   "id": "e732ada0",
   "metadata": {},
   "outputs": [],
   "source": [
    "def recommend(course):\n",
    "    #Let's fetch the index\n",
    "    course_index = data[data['course_title']==course].index[0]\n",
    "    distances = similarity[course_index]\n",
    "    courses_list = sorted(list(enumerate(distances)),reverse=True,key=lambda x:x[1])[1:6]\n",
    "    for i in courses_list:\n",
    "        print(data.iloc[i[0]]['course_title'])"
   ]
  },
  {
   "cell_type": "code",
   "execution_count": 70,
   "id": "c43e3b63",
   "metadata": {},
   "outputs": [
    {
     "name": "stdout",
     "output_type": "stream",
     "text": [
      "Investment Banking Recruitment Series\n",
      "Complete Investment Banking Course 2017\n",
      "Financial Accounting  Ultimate Beginner Course\n",
      "Managerial Accounting  Ultimate Beginner Course\n",
      "Investment Banking Land Job Wall Street\n"
     ]
    }
   ],
   "source": [
    "recommend(\"Ultimate Investment Banking Course\")"
   ]
  },
  {
   "cell_type": "code",
   "execution_count": 72,
   "id": "b5a3f64d",
   "metadata": {},
   "outputs": [],
   "source": [
    "import pickle"
   ]
  },
  {
   "cell_type": "code",
   "execution_count": 73,
   "id": "9aef0bde",
   "metadata": {},
   "outputs": [],
   "source": [
    "#pickle.dump(data.to_dict(),open('course_dict.pkl','wb'))\n",
    "pickle.dump(data,open('course_dict.pkl','wb'))"
   ]
  },
  {
   "cell_type": "code",
   "execution_count": 74,
   "id": "49da98cd",
   "metadata": {},
   "outputs": [],
   "source": [
    "pickle.dump(similarity,open('similarity.pkl','wb'))"
   ]
  },
  {
   "cell_type": "code",
   "execution_count": null,
   "id": "efa9839a",
   "metadata": {},
   "outputs": [],
   "source": [
    "import tkinter as tk\n",
    "from tkinter import ttk, messagebox\n",
    "import pandas as pd\n",
    "\n",
    "# Assume 'data', 'similarity' are defined elsewhere\n",
    "\n",
    "# Define the popularity-based recommendation function\n",
    "def popularity_based_recommendation(df, top_n=5):\n",
    "    df['popularity_score'] = 0.6 * df['num_subscribers'] + 0.4 * df['num_reviews']\n",
    "    df_sorted = df.sort_values(by='popularity_score', ascending=False)\n",
    "    recommended_courses = df_sorted[['course_title', 'popularity_score']].head(top_n)\n",
    "    return recommended_courses\n",
    "\n",
    "# Define the recommend function\n",
    "def recommend(course):\n",
    "    try:\n",
    "        course_index = data[data['course_title'] == course].index[0]\n",
    "        distances = similarity[course_index]\n",
    "        courses_list = sorted(list(enumerate(distances)), reverse=True, key=lambda x: x[1])[1:6]\n",
    "        recommended_courses = [data.iloc[i[0]]['course_title'] for i in courses_list]\n",
    "        return recommended_courses\n",
    "    except IndexError:\n",
    "        messagebox.showerror(\"Error\", f\"Course '{course}' not found.\")\n",
    "\n",
    "# Event handler for the \"Recommend\" button\n",
    "def recommend_button_click():\n",
    "    course_title = course_var.get()\n",
    "    recommended_courses = recommend(course_title)\n",
    "    if recommended_courses:\n",
    "        popularity_label.pack_forget()\n",
    "        result_label.config(text=\"Recommended Courses:\\n\" + '\\n'.join(recommended_courses))\n",
    "\n",
    "# Create the main application window\n",
    "root = tk.Tk()\n",
    "root.title(\"Course Recommender\")\n",
    "root.geometry(\"400x300\")\n",
    "\n",
    "# Change font and color\n",
    "font_style = (\"Arial\", 12)\n",
    "label_color = \"blue\"\n",
    "heading_color=\"red\"\n",
    "button_color = \"green\"\n",
    "result_label_color = \"black\"\n",
    "\n",
    "# Create and place GUI elements\n",
    "label = tk.Label(root, text=\"Select Course:\", font=font_style, fg=label_color)\n",
    "label.pack(pady=10)\n",
    "\n",
    "course_titles = data['course_title'].tolist()\n",
    "course_var = tk.StringVar(value=course_titles[0])\n",
    "course_dropdown = ttk.Combobox(root, textvariable=course_var, values=course_titles, width=40, font=font_style)\n",
    "course_dropdown.pack(pady=5)\n",
    "\n",
    "popularity_recommendations = popularity_based_recommendation(data, top_n=5)\n",
    "popularity_label = tk.Label(root, text=\"Popularity-based Recommendations:\\n\" + popularity_recommendations.to_string(index=False),\n",
    "                             font=font_style, fg=label_color)\n",
    "popularity_label.pack()\n",
    "\n",
    "recommend_button = tk.Button(root, text=\"Recommend\", command=recommend_button_click, width=20, font=font_style, fg=button_color)\n",
    "recommend_button.pack(pady=10)\n",
    "\n",
    "result_label = tk.Label(root, text=\"\", wraplength=350, font=font_style, fg=result_label_color)\n",
    "result_label.pack()\n",
    "\n",
    "root.mainloop()"
   ]
  },
  {
   "cell_type": "code",
   "execution_count": null,
   "id": "31c1904a",
   "metadata": {},
   "outputs": [],
   "source": []
  }
 ],
 "metadata": {
  "kernelspec": {
   "display_name": "Python 3 (ipykernel)",
   "language": "python",
   "name": "python3"
  },
  "language_info": {
   "codemirror_mode": {
    "name": "ipython",
    "version": 3
   },
   "file_extension": ".py",
   "mimetype": "text/x-python",
   "name": "python",
   "nbconvert_exporter": "python",
   "pygments_lexer": "ipython3",
   "version": "3.10.9"
  }
 },
 "nbformat": 4,
 "nbformat_minor": 5
}
